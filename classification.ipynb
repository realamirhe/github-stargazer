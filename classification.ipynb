{
  "nbformat": 4,
  "nbformat_minor": 0,
  "metadata": {
    "colab": {
      "provenance": []
    },
    "kernelspec": {
      "name": "python3",
      "display_name": "Python 3"
    },
    "language_info": {
      "name": "python"
    }
  },
  "cells": [
    {
      "cell_type": "code",
      "execution_count": 1,
      "metadata": {
        "id": "pQbZnph_tdkW"
      },
      "outputs": [],
      "source": [
        "import os\n",
        "import pandas as pd\n",
        "import numpy as np\n",
        "import matplotlib.pyplot as plt\n",
        "from sklearn.neighbors import KNeighborsClassifier\n",
        "\n",
        "import seaborn as sns\n",
        "\n",
        "from sklearn import metrics\n",
        "from sklearn.decomposition import PCA\n",
        "from sklearn.linear_model import LinearRegression\n",
        "from sklearn.linear_model import LogisticRegression\n",
        "from sklearn.model_selection import train_test_split\n",
        "from sklearn.feature_selection import SequentialFeatureSelector\n",
        "from sklearn.model_selection import GridSearchCV\n",
        "from sklearn.model_selection import cross_val_score"
      ]
    },
    {
      "cell_type": "code",
      "source": [
        "def labeling(x):\n",
        "  ind=[0,1,16,128,512,4096,16384,65536,262144,np.inf]\n",
        "  for i in range(len(ind)-1):\n",
        "    if(x>=ind[i] and x<ind[i+1]):\n",
        "      y=i\n",
        "      break\n",
        "  return y"
      ],
      "metadata": {
        "id": "LVreNaZI5kCn"
      },
      "execution_count": 2,
      "outputs": []
    },
    {
      "cell_type": "code",
      "source": [
        "\n",
        "\n",
        "GITHUB_CDN = \"https://raw.githubusercontent.com/realamirhe/github-stargazer\"\n",
        "js_repo_urls = map(\n",
        "    lambda idx: f\"{GITHUB_CDN}/master/data/js-{idx}.csv\",\n",
        "    range(1, 10)\n",
        ")\n",
        "\n",
        "datas = pd.concat(list(map(pd.read_csv, js_repo_urls)))\n",
        "datas = datas.select_dtypes(exclude=['object'])\n",
        "datas = datas.drop(columns=['Unnamed: 0', 'score'], axis=1)\n",
        "data1 = datas.reset_index()\n",
        "\n",
        "data1.shape"
      ],
      "metadata": {
        "colab": {
          "base_uri": "https://localhost:8080/"
        },
        "id": "LLrz26TWtqQa",
        "outputId": "dc52ae3f-6a6a-4c57-9436-4df63461a3bb"
      },
      "execution_count": 3,
      "outputs": [
        {
          "output_type": "execute_result",
          "data": {
            "text/plain": [
              "(900, 25)"
            ]
          },
          "metadata": {},
          "execution_count": 3
        }
      ]
    },
    {
      "cell_type": "code",
      "source": [
        "\n",
        "\n",
        "GITHUB_CDN = \"https://raw.githubusercontent.com/realamirhe/github-stargazer\"\n",
        "js_repo_urls = map(\n",
        "    lambda idx: f\"{GITHUB_CDN}/master/data/py-{idx}.csv\",\n",
        "    range(1, 10)\n",
        ")\n",
        "\n",
        "datas = pd.concat(list(map(pd.read_csv, js_repo_urls)))\n",
        "datas = datas.select_dtypes(exclude=['object'])\n",
        "datas = datas.drop(columns=['Unnamed: 0', 'score'], axis=1)\n",
        "data2 = datas.reset_index()\n",
        "\n",
        "data2.shape"
      ],
      "metadata": {
        "colab": {
          "base_uri": "https://localhost:8080/"
        },
        "id": "s7UHEa6r24Us",
        "outputId": "7880ed6b-d4b7-4c99-81c6-8fe813e5d6bd"
      },
      "execution_count": 4,
      "outputs": [
        {
          "output_type": "execute_result",
          "data": {
            "text/plain": [
              "(900, 25)"
            ]
          },
          "metadata": {},
          "execution_count": 4
        }
      ]
    },
    {
      "cell_type": "code",
      "source": [
        "data=pd.concat([data1,data2])\n",
        "data.drop_duplicates(inplace=True)\n",
        "data.shape"
      ],
      "metadata": {
        "colab": {
          "base_uri": "https://localhost:8080/"
        },
        "id": "ut4qIppp5xbB",
        "outputId": "eff9e31b-9898-40cf-8941-f9394468dd49"
      },
      "execution_count": 5,
      "outputs": [
        {
          "output_type": "execute_result",
          "data": {
            "text/plain": [
              "(259, 25)"
            ]
          },
          "metadata": {},
          "execution_count": 5
        }
      ]
    },
    {
      "cell_type": "code",
      "source": [
        "y = data['stargazers_count'].apply(labeling)\n",
        "X = data.drop(columns=['stargazers_count', 'index', 'watchers', 'watchers_count'])\n",
        "X = X.replace({ False: 0, True: 1 })\n",
        "X.info()"
      ],
      "metadata": {
        "colab": {
          "base_uri": "https://localhost:8080/"
        },
        "id": "F5bRScCau91J",
        "outputId": "b2ef356a-359a-4829-98ef-02c21d4387d7"
      },
      "execution_count": 6,
      "outputs": [
        {
          "output_type": "stream",
          "name": "stdout",
          "text": [
            "<class 'pandas.core.frame.DataFrame'>\n",
            "Int64Index: 259 entries, 0 to 99\n",
            "Data columns (total 21 columns):\n",
            " #   Column                       Non-Null Count  Dtype\n",
            "---  ------                       --------------  -----\n",
            " 0   private                      259 non-null    int64\n",
            " 1   owner.public_repos           259 non-null    int64\n",
            " 2   owner.public_gists           259 non-null    int64\n",
            " 3   owner.followers              259 non-null    int64\n",
            " 4   owner.following              259 non-null    int64\n",
            " 5   fork                         259 non-null    int64\n",
            " 6   forks                        259 non-null    int64\n",
            " 7   size                         259 non-null    int64\n",
            " 8   has_issues                   259 non-null    int64\n",
            " 9   has_projects                 259 non-null    int64\n",
            " 10  has_downloads                259 non-null    int64\n",
            " 11  has_wiki                     259 non-null    int64\n",
            " 12  has_pages                    259 non-null    int64\n",
            " 13  has_discussions              259 non-null    int64\n",
            " 14  forks_count                  259 non-null    int64\n",
            " 15  archived                     259 non-null    int64\n",
            " 16  disabled                     259 non-null    int64\n",
            " 17  open_issues_count            259 non-null    int64\n",
            " 18  allow_forking                259 non-null    int64\n",
            " 19  is_template                  259 non-null    int64\n",
            " 20  web_commit_signoff_required  259 non-null    int64\n",
            "dtypes: int64(21)\n",
            "memory usage: 44.5 KB\n"
          ]
        }
      ]
    },
    {
      "cell_type": "code",
      "source": [
        "pca=PCA(n_components=2)\n",
        "pca.fit(X)\n",
        "print(np.sum(pca.explained_variance_ratio_))\n",
        "xp=pca.transform(X)\n",
        "x_train, x_test, y_train, y_test = train_test_split(xp, y, test_size=0.2, random_state=42)\n",
        "plt.hist(y)"
      ],
      "metadata": {
        "colab": {
          "base_uri": "https://localhost:8080/",
          "height": 336
        },
        "id": "ILLgZffI-Te1",
        "outputId": "c20e280f-159e-4506-8dbf-5bfda2d248b3"
      },
      "execution_count": 7,
      "outputs": [
        {
          "output_type": "stream",
          "name": "stdout",
          "text": [
            "0.9998338204336223\n"
          ]
        },
        {
          "output_type": "execute_result",
          "data": {
            "text/plain": [
              "(array([101.,   0.,   0.,  89.,   0.,   0.,  32.,   0.,   0.,  37.]),\n",
              " array([1. , 1.3, 1.6, 1.9, 2.2, 2.5, 2.8, 3.1, 3.4, 3.7, 4. ]),\n",
              " <a list of 10 Patch objects>)"
            ]
          },
          "metadata": {},
          "execution_count": 7
        },
        {
          "output_type": "display_data",
          "data": {
            "text/plain": [
              "<Figure size 432x288 with 1 Axes>"
            ],
            "image/png": "[encoded data removed]"
          },
          "metadata": {
            "needs_background": "light"
          }
        }
      ]
    },
    {
      "cell_type": "code",
      "source": [
        "knn = KNeighborsClassifier()\n",
        "knn_param={'n_neighbors':[1,2,3,4,5,6]}\n",
        "sh=GridSearchCV(knn,knn_param).fit(x_train,y_train)\n",
        "print(sh.best_estimator_)\n",
        "knn=KNeighborsClassifier(n_neighbors=1)\n",
        "acc=cross_val_score(knn, xp, y, cv=5)\n",
        "plt.bar(np.arange(5)+1,acc)\n",
        "plt.xlabel('kth Fold')\n",
        "plt.ylabel('Accuracy')\n",
        "plt.title('5-fold cross validation for KNN')"
      ],
      "metadata": {
        "colab": {
          "base_uri": "https://localhost:8080/",
          "height": 331
        },
        "id": "v8Bwt6mAAoa2",
        "outputId": "c73c73a0-f4f0-4e79-ec84-fe5afc2a3b0d"
      },
      "execution_count": 8,
      "outputs": [
        {
          "output_type": "stream",
          "name": "stdout",
          "text": [
            "KNeighborsClassifier(n_neighbors=1)\n"
          ]
        },
        {
          "output_type": "execute_result",
          "data": {
            "text/plain": [
              "Text(0.5, 1.0, '5-fold cross validation')"
            ]
          },
          "metadata": {},
          "execution_count": 8
        },
        {
          "output_type": "display_data",
          "data": {
            "text/plain": [
              "<Figure size 432x288 with 1 Axes>"
            ],
            "image/png": "[encoded data removed]"
          },
          "metadata": {
            "needs_background": "light"
          }
        }
      ]
    },
    {
      "cell_type": "code",
      "source": [
        "from sklearn.svm import SVC\n",
        "clf=SVC()\n",
        "param={'C':[0.5,1,5,10],'gamma':['scale','auto']}\n",
        "sh=GridSearchCV(clf,param).fit(x_train,y_train)\n",
        "print(sh.best_estimator_)\n",
        "clf=SVC(C=5,gamma='auto')\n",
        "acc=cross_val_score(clf, xp, y, cv=5)\n",
        "plt.bar(np.arange(5)+1,acc)\n",
        "plt.xlabel('kth Fold')\n",
        "plt.ylabel('Accuracy')\n",
        "plt.title('5-fold cross validation for SVM')"
      ],
      "metadata": {
        "id": "Yt6cf9OrNEuJ",
        "colab": {
          "base_uri": "https://localhost:8080/",
          "height": 331
        },
        "outputId": "3d139cf5-1653-4c7e-8ba6-ef7eaf5d8a07"
      },
      "execution_count": 14,
      "outputs": [
        {
          "output_type": "stream",
          "name": "stdout",
          "text": [
            "SVC(C=5, gamma='auto')\n"
          ]
        },
        {
          "output_type": "execute_result",
          "data": {
            "text/plain": [
              "Text(0.5, 1.0, '5-fold cross validation for SVM')"
            ]
          },
          "metadata": {},
          "execution_count": 14
        },
        {
          "output_type": "display_data",
          "data": {
            "text/plain": [
              "<Figure size 432x288 with 1 Axes>"
            ],
            "image/png": "[encoded data removed]"
          },
          "metadata": {
            "needs_background": "light"
          }
        }
      ]
    },
    {
      "cell_type": "code",
      "source": [
        "from sklearn.linear_model import LogisticRegression\n",
        "clf = LogisticRegression(random_state=0)\n",
        "acc=cross_val_score(clf, xp, y, cv=5)\n",
        "plt.bar(np.arange(5)+1,acc)\n",
        "plt.xlabel('kth Fold')\n",
        "plt.ylabel('Accuracy')\n",
        "plt.title('5-fold cross validation for logestic regression')"
      ],
      "metadata": {
        "colab": {
          "base_uri": "https://localhost:8080/",
          "height": 313
        },
        "id": "tqUDLA4_x0Mc",
        "outputId": "45be97d8-6683-43c9-d700-5db7dabeae72"
      },
      "execution_count": 13,
      "outputs": [
        {
          "output_type": "execute_result",
          "data": {
            "text/plain": [
              "Text(0.5, 1.0, '5-fold cross validation for logestic regression')"
            ]
          },
          "metadata": {},
          "execution_count": 13
        },
        {
          "output_type": "display_data",
          "data": {
            "text/plain": [
              "<Figure size 432x288 with 1 Axes>"
            ],
            "image/png": "[encoded data removed]"
          },
          "metadata": {
            "needs_background": "light"
          }
        }
      ]
    },
    {
      "cell_type": "code",
      "source": [
        "from sklearn.tree import DecisionTreeClassifier\n",
        "clf = DecisionTreeClassifier()\n",
        "param={'max_depth':[1,3,5]}\n",
        "sh=GridSearchCV(clf,param).fit(x_train,y_train)\n",
        "print(sh.best_estimator_)\n",
        "acc=cross_val_score(clf, xp, y, cv=5)\n",
        "plt.bar(np.arange(5)+1,acc)\n",
        "plt.xlabel('kth Fold')\n",
        "plt.ylabel('Accuracy')\n",
        "plt.title('5-fold cross validation for logestic regression')"
      ],
      "metadata": {
        "colab": {
          "base_uri": "https://localhost:8080/",
          "height": 331
        },
        "id": "ICo9c6sXzcv6",
        "outputId": "2919a7a8-b3c9-4f65-f988-6fc9a5e3b151"
      },
      "execution_count": 23,
      "outputs": [
        {
          "output_type": "stream",
          "name": "stdout",
          "text": [
            "DecisionTreeClassifier(max_depth=5)\n"
          ]
        },
        {
          "output_type": "execute_result",
          "data": {
            "text/plain": [
              "Text(0.5, 1.0, '5-fold cross validation for logestic regression')"
            ]
          },
          "metadata": {},
          "execution_count": 23
        },
        {
          "output_type": "display_data",
          "data": {
            "text/plain": [
              "<Figure size 432x288 with 1 Axes>"
            ],
            "image/png": "[encoded data removed]"
          },
          "metadata": {
            "needs_background": "light"
          }
        }
      ]
    }
  ]
}