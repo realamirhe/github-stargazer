{
  "nbformat": 4,
  "nbformat_minor": 0,
  "metadata": {
    "colab": {
      "provenance": []
    },
    "kernelspec": {
      "name": "python3",
      "display_name": "Python 3"
    },
    "language_info": {
      "name": "python"
    }
  },
  "cells": [
    {
      "cell_type": "code",
      "execution_count": 1,
      "metadata": {
        "id": "pQbZnph_tdkW"
      },
      "outputs": [],
      "source": [
        "import os\n",
        "import pandas as pd\n",
        "import numpy as np\n",
        "import matplotlib.pyplot as plt\n",
        "from sklearn.neighbors import KNeighborsClassifier\n",
        "\n",
        "import seaborn as sns\n",
        "\n",
        "from sklearn import metrics\n",
        "from sklearn.decomposition import PCA\n",
        "from sklearn.linear_model import LinearRegression\n",
        "from sklearn.linear_model import LogisticRegression\n",
        "from sklearn.model_selection import train_test_split\n",
        "from sklearn.feature_selection import SequentialFeatureSelector\n",
        "from sklearn.model_selection import GridSearchCV\n",
        "from sklearn.model_selection import cross_val_score\n",
        "from sklearn.preprocessing import StandardScaler"
      ]
    },
    {
      "cell_type": "code",
      "source": [
        "\n",
        "\n",
        "GITHUB_CDN = \"https://raw.githubusercontent.com/realamirhe/github-stargazer\"\n",
        "js_repo_urls = map(\n",
        "    lambda idx: f\"{GITHUB_CDN}/master/data/js-{idx}.csv\",\n",
        "    range(1, 10)\n",
        ")\n",
        "\n",
        "datas = pd.concat(list(map(pd.read_csv, js_repo_urls)))\n",
        "datas = datas.select_dtypes(exclude=['object'])\n",
        "datas = datas.drop(columns=['Unnamed: 0', 'score'], axis=1)\n",
        "data1 = datas.reset_index()\n",
        "\n",
        "data1.shape"
      ],
      "metadata": {
        "colab": {
          "base_uri": "https://localhost:8080/"
        },
        "id": "LLrz26TWtqQa",
        "outputId": "844deb97-5991-4335-fdd6-946b6980b1ab"
      },
      "execution_count": 39,
      "outputs": [
        {
          "output_type": "execute_result",
          "data": {
            "text/plain": [
              "(900, 25)"
            ]
          },
          "metadata": {},
          "execution_count": 39
        }
      ]
    },
    {
      "cell_type": "code",
      "source": [
        "\n",
        "\n",
        "GITHUB_CDN = \"https://raw.githubusercontent.com/realamirhe/github-stargazer\"\n",
        "js_repo_urls = map(\n",
        "    lambda idx: f\"{GITHUB_CDN}/master/data/py-{idx}.csv\",\n",
        "    range(1, 10)\n",
        ")\n",
        "\n",
        "datas = pd.concat(list(map(pd.read_csv, js_repo_urls)))\n",
        "datas = datas.select_dtypes(exclude=['object'])\n",
        "datas = datas.drop(columns=['Unnamed: 0', 'score'], axis=1)\n",
        "data2 = datas.reset_index()\n",
        "\n",
        "data2.shape"
      ],
      "metadata": {
        "colab": {
          "base_uri": "https://localhost:8080/"
        },
        "id": "s7UHEa6r24Us",
        "outputId": "bdf47604-b09f-4374-fbab-2d475183b397"
      },
      "execution_count": 31,
      "outputs": [
        {
          "output_type": "execute_result",
          "data": {
            "text/plain": [
              "(900, 25)"
            ]
          },
          "metadata": {},
          "execution_count": 31
        }
      ]
    },
    {
      "cell_type": "code",
      "source": [
        "GITHUB_CDN = \"https://raw.githubusercontent.com/realamirhe/github-stargazer\"\n",
        "js_repo_urls = map(\n",
        "    lambda idx: f\"{GITHUB_CDN}/master/data/datas.csv\",\n",
        "    range(1, 10)\n",
        ")\n",
        "\n",
        "datas = pd.concat(list(map(pd.read_csv, js_repo_urls)))\n",
        "datas = datas.select_dtypes(exclude=['object'])\n",
        "datas = datas.drop(columns=['Unnamed: 0', 'score'], axis=1)\n",
        "data3 = datas.reset_index()\n",
        "\n",
        "data3.shape"
      ],
      "metadata": {
        "colab": {
          "base_uri": "https://localhost:8080/"
        },
        "id": "Te3jdPsPsubt",
        "outputId": "7dba789e-3df9-443c-f8b9-93c5c834b9ae"
      },
      "execution_count": 32,
      "outputs": [
        {
          "output_type": "execute_result",
          "data": {
            "text/plain": [
              "(12303, 25)"
            ]
          },
          "metadata": {},
          "execution_count": 32
        }
      ]
    },
    {
      "cell_type": "code",
      "source": [
        "data=pd.concat([data1,data2,data3])\n",
        "data.drop_duplicates(inplace=True)\n",
        "data.shape"
      ],
      "metadata": {
        "colab": {
          "base_uri": "https://localhost:8080/"
        },
        "id": "ut4qIppp5xbB",
        "outputId": "f83d1b71-acab-4d4e-cc13-601d980aa23c"
      },
      "execution_count": 33,
      "outputs": [
        {
          "output_type": "execute_result",
          "data": {
            "text/plain": [
              "(1538, 25)"
            ]
          },
          "metadata": {},
          "execution_count": 33
        }
      ]
    },
    {
      "cell_type": "code",
      "source": [
        "# startruck_ranges = (0, 1, 16, 128, 512, 4096, 16384, 65536, 262144)\n",
        "startruck_ranges = (0,8,64,np.inf)\n",
        "startruck_labels = [0, 1,2]\n",
        "y = data['stargazers_count']\n",
        "y = pd.cut(y, [i-1 for i in startruck_ranges], labels=startruck_labels)\n",
        "\n",
        "X = data.drop(columns=['stargazers_count', 'index', 'watchers', 'watchers_count'])\n",
        "X = X.replace({ False: 0, True: 1 })\n",
        "X.info()"
      ],
      "metadata": {
        "colab": {
          "base_uri": "https://localhost:8080/"
        },
        "id": "F5bRScCau91J",
        "outputId": "cf7cf093-eb8f-4880-90b3-bd2db7d27775"
      },
      "execution_count": 96,
      "outputs": [
        {
          "output_type": "stream",
          "name": "stdout",
          "text": [
            "<class 'pandas.core.frame.DataFrame'>\n",
            "Int64Index: 1538 entries, 0 to 1366\n",
            "Data columns (total 21 columns):\n",
            " #   Column                       Non-Null Count  Dtype\n",
            "---  ------                       --------------  -----\n",
            " 0   private                      1538 non-null   int64\n",
            " 1   owner.public_repos           1538 non-null   int64\n",
            " 2   owner.public_gists           1538 non-null   int64\n",
            " 3   owner.followers              1538 non-null   int64\n",
            " 4   owner.following              1538 non-null   int64\n",
            " 5   fork                         1538 non-null   int64\n",
            " 6   forks                        1538 non-null   int64\n",
            " 7   size                         1538 non-null   int64\n",
            " 8   has_issues                   1538 non-null   int64\n",
            " 9   has_projects                 1538 non-null   int64\n",
            " 10  has_downloads                1538 non-null   int64\n",
            " 11  has_wiki                     1538 non-null   int64\n",
            " 12  has_pages                    1538 non-null   int64\n",
            " 13  has_discussions              1538 non-null   int64\n",
            " 14  forks_count                  1538 non-null   int64\n",
            " 15  archived                     1538 non-null   int64\n",
            " 16  disabled                     1538 non-null   int64\n",
            " 17  open_issues_count            1538 non-null   int64\n",
            " 18  allow_forking                1538 non-null   int64\n",
            " 19  is_template                  1538 non-null   int64\n",
            " 20  web_commit_signoff_required  1538 non-null   int64\n",
            "dtypes: int64(21)\n",
            "memory usage: 264.3 KB\n"
          ]
        }
      ]
    },
    {
      "cell_type": "code",
      "source": [
        "pca=PCA(n_components=2)\n",
        "pca.fit(X)\n",
        "print(np.sum(pca.explained_variance_ratio_))\n",
        "xp=pca.transform(X)\n",
        "x_train, x_test, y_train, y_test = train_test_split(xp, y, test_size=0.2, random_state=42)"
      ],
      "metadata": {
        "colab": {
          "base_uri": "https://localhost:8080/"
        },
        "id": "ILLgZffI-Te1",
        "outputId": "bf1a3c31-19b0-4a48-9dad-00b4c02e61c8"
      },
      "execution_count": 57,
      "outputs": [
        {
          "output_type": "stream",
          "name": "stdout",
          "text": [
            "0.9999373333671601\n"
          ]
        }
      ]
    },
    {
      "cell_type": "code",
      "source": [
        "knn = KNeighborsClassifier()\n",
        "knn=KNeighborsClassifier(n_neighbors=5)\n",
        "acc=cross_val_score(knn, xp, y, cv=5)\n",
        "plt.bar(np.arange(5)+1,acc)\n",
        "plt.xlabel('kth Fold')\n",
        "plt.ylabel('Accuracy')\n",
        "plt.title('5-fold cross validation for KNN')"
      ],
      "metadata": {
        "colab": {
          "base_uri": "https://localhost:8080/",
          "height": 313
        },
        "id": "v8Bwt6mAAoa2",
        "outputId": "cde67550-ced6-40f5-aaaa-d0b490960cd9"
      },
      "execution_count": 64,
      "outputs": [
        {
          "output_type": "execute_result",
          "data": {
            "text/plain": [
              "Text(0.5, 1.0, '5-fold cross validation for KNN')"
            ]
          },
          "metadata": {},
          "execution_count": 64
        },
        {
          "output_type": "display_data",
          "data": {
            "text/plain": [
              "<Figure size 432x288 with 1 Axes>"
            ],
            "image/png": "[encoded data removed]"
          },
          "metadata": {
            "needs_background": "light"
          }
        }
      ]
    },
    {
      "cell_type": "code",
      "source": [
        "clf=KNeighborsClassifier(n_neighbors=5)\n",
        "clf.fit(x_train,y_train)\n",
        "y_p=clf.predict(x_test)\n",
        "confusion_matrix = metrics.confusion_matrix(y_test, y_p)\n",
        "cm_display = metrics.ConfusionMatrixDisplay(confusion_matrix = confusion_matrix,\n",
        "                                            display_labels = ['*', '**','***'])\n",
        "cm_display.plot()\n",
        "plt.show()"
      ],
      "metadata": {
        "colab": {
          "base_uri": "https://localhost:8080/",
          "height": 279
        },
        "id": "rNHBxlL7rpG0",
        "outputId": "dbfd4012-5d4a-4b60-990c-71ef53f5f93d"
      },
      "execution_count": 99,
      "outputs": [
        {
          "output_type": "display_data",
          "data": {
            "text/plain": [
              "<Figure size 432x288 with 2 Axes>"
            ],
            "image/png": "[encoded data removed]"
          },
          "metadata": {
            "needs_background": "light"
          }
        }
      ]
    },
    {
      "cell_type": "code",
      "source": [
        "from sklearn.svm import SVC\n",
        "clf=SVC(C=5,gamma='auto')\n",
        "acc=cross_val_score(clf, xp, y, cv=5)\n",
        "plt.bar(np.arange(5)+1,acc)\n",
        "plt.xlabel('kth Fold')\n",
        "plt.ylabel('Accuracy')\n",
        "plt.title('5-fold cross validation for SVM')"
      ],
      "metadata": {
        "id": "Yt6cf9OrNEuJ",
        "colab": {
          "base_uri": "https://localhost:8080/",
          "height": 313
        },
        "outputId": "781d2e76-3bba-4020-d6c9-f2665a34843f"
      },
      "execution_count": 65,
      "outputs": [
        {
          "output_type": "execute_result",
          "data": {
            "text/plain": [
              "Text(0.5, 1.0, '5-fold cross validation for SVM')"
            ]
          },
          "metadata": {},
          "execution_count": 65
        },
        {
          "output_type": "display_data",
          "data": {
            "text/plain": [
              "<Figure size 432x288 with 1 Axes>"
            ],
            "image/png": "[encoded data removed]"
          },
          "metadata": {
            "needs_background": "light"
          }
        }
      ]
    },
    {
      "cell_type": "code",
      "source": [
        "clf=SVC(C=5,gamma='auto')\n",
        "clf.fit(x_train,y_train)\n",
        "y_p=clf.predict(x_test)\n",
        "confusion_matrix = metrics.confusion_matrix(y_test, y_p)\n",
        "cm_display = metrics.ConfusionMatrixDisplay(confusion_matrix = confusion_matrix,\n",
        "                                            display_labels = ['*', '**','***'])\n",
        "cm_display.plot()\n",
        "plt.show()"
      ],
      "metadata": {
        "colab": {
          "base_uri": "https://localhost:8080/",
          "height": 279
        },
        "id": "SolRPJcStvPY",
        "outputId": "9fd2e1c3-9b3d-4f03-f930-61336d6191c2"
      },
      "execution_count": 100,
      "outputs": [
        {
          "output_type": "display_data",
          "data": {
            "text/plain": [
              "<Figure size 432x288 with 2 Axes>"
            ],
            "image/png": "[encoded data removed]"
          },
          "metadata": {
            "needs_background": "light"
          }
        }
      ]
    },
    {
      "cell_type": "code",
      "source": [
        "from sklearn.linear_model import LogisticRegression\n",
        "clf = LogisticRegression(random_state=0,max_iter=1000)\n",
        "acc=cross_val_score(clf, xp, y, cv=5)\n",
        "plt.bar(np.arange(5)+1,acc)\n",
        "plt.xlabel('kth Fold')\n",
        "plt.ylabel('Accuracy')\n",
        "plt.title('5-fold cross validation for logestic regression')"
      ],
      "metadata": {
        "colab": {
          "base_uri": "https://localhost:8080/",
          "height": 313
        },
        "id": "tqUDLA4_x0Mc",
        "outputId": "d62cdf20-1eb2-48d5-ab15-9eecac1bb376"
      },
      "execution_count": 107,
      "outputs": [
        {
          "output_type": "execute_result",
          "data": {
            "text/plain": [
              "Text(0.5, 1.0, '5-fold cross validation for logestic regression')"
            ]
          },
          "metadata": {},
          "execution_count": 107
        },
        {
          "output_type": "display_data",
          "data": {
            "text/plain": [
              "<Figure size 432x288 with 1 Axes>"
            ],
            "image/png": "[encoded data removed]"
          },
          "metadata": {
            "needs_background": "light"
          }
        }
      ]
    },
    {
      "cell_type": "code",
      "source": [
        "clf = LogisticRegression(random_state=0,max_iter=1000)\n",
        "clf.fit(x_train,y_train)\n",
        "y_p=clf.predict(x_test)\n",
        "confusion_matrix = metrics.confusion_matrix(y_test, y_p)\n",
        "cm_display = metrics.ConfusionMatrixDisplay(confusion_matrix = confusion_matrix,\n",
        "                                            display_labels = ['*', '**','***'])\n",
        "cm_display.plot()\n",
        "plt.show()"
      ],
      "metadata": {
        "colab": {
          "base_uri": "https://localhost:8080/",
          "height": 279
        },
        "id": "B4eshHJGuEK0",
        "outputId": "8c44049c-aa62-46fe-8249-767d2ca64d98"
      },
      "execution_count": 101,
      "outputs": [
        {
          "output_type": "display_data",
          "data": {
            "text/plain": [
              "<Figure size 432x288 with 2 Axes>"
            ],
            "image/png": "[encoded data removed]"
          },
          "metadata": {
            "needs_background": "light"
          }
        }
      ]
    },
    {
      "cell_type": "code",
      "source": [
        "from sklearn.tree import DecisionTreeClassifier\n",
        "clf=DecisionTreeClassifier(max_depth=2)\n",
        "acc=cross_val_score(clf, xp, y, cv=5)\n",
        "plt.bar(np.arange(5)+1,acc)\n",
        "plt.xlabel('kth Fold')\n",
        "plt.ylabel('Accuracy')\n",
        "plt.title('5-fold cross validation for Decision Tree')"
      ],
      "metadata": {
        "colab": {
          "base_uri": "https://localhost:8080/",
          "height": 313
        },
        "id": "ICo9c6sXzcv6",
        "outputId": "9a6290b3-3e9d-4509-cc81-e01d72727db0"
      },
      "execution_count": 138,
      "outputs": [
        {
          "output_type": "execute_result",
          "data": {
            "text/plain": [
              "Text(0.5, 1.0, '5-fold cross validation for Decision Tree')"
            ]
          },
          "metadata": {},
          "execution_count": 138
        },
        {
          "output_type": "display_data",
          "data": {
            "text/plain": [
              "<Figure size 432x288 with 1 Axes>"
            ],
            "image/png": "[encoded data removed]"
          },
          "metadata": {
            "needs_background": "light"
          }
        }
      ]
    },
    {
      "cell_type": "code",
      "source": [
        "clf=DecisionTreeClassifier(max_depth=2)\n",
        "clf.fit(x_train,y_train)\n",
        "y_p=clf.predict(x_test)\n",
        "confusion_matrix = metrics.confusion_matrix(y_test, y_p)\n",
        "cm_display = metrics.ConfusionMatrixDisplay(confusion_matrix = confusion_matrix,\n",
        "                                            display_labels = ['*', '**','***'])\n",
        "cm_display.plot()\n",
        "plt.show()"
      ],
      "metadata": {
        "colab": {
          "base_uri": "https://localhost:8080/",
          "height": 281
        },
        "id": "vhkKtDpnugKF",
        "outputId": "6ccf35f4-1778-46c2-cef8-96f8b1afdec0"
      },
      "execution_count": 135,
      "outputs": [
        {
          "output_type": "display_data",
          "data": {
            "text/plain": [
              "<Figure size 432x288 with 2 Axes>"
            ],
            "image/png": "[encoded data removed]"
          },
          "metadata": {
            "needs_background": "light"
          }
        }
      ]
    },
    {
      "cell_type": "code",
      "source": [
        "# !pip install sklearn_hierarchical_classification\n",
        "# from sklearn_hierarchical_classification.classifier import HierarchicalClassifier\n",
        "# from sklearn_hierarchical_classification.constants import ROOT\n",
        "# class_hierarchy = {\n",
        "#         ROOT: [\"A\", \"B\"],\n",
        "#         \"A\": [\"0\", \"1\"],\n",
        "#         \"B\": [\"2\"]}\n",
        "# clf = HierarchicalClassifier(\n",
        "#     base_estimator=SVC(C=5,gamma='auto',probability=True),\n",
        "#     class_hierarchy=class_hierarchy)\n",
        "\n",
        "# acc=cross_val_score(clf, xp, y.astype(str), cv=5)\n",
        "# plt.bar(np.arange(5)+1,acc)\n",
        "# plt.xlabel('kth Fold')\n",
        "# plt.ylabel('Accuracy')\n",
        "# plt.title('5-fold cross validation for hierachy')"
      ],
      "metadata": {
        "id": "MYRvKIubnTXz"
      },
      "execution_count": 139,
      "outputs": []
    }
  ]
}