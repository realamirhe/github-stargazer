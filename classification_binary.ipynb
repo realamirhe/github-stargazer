{
  "nbformat": 4,
  "nbformat_minor": 0,
  "metadata": {
    "colab": {
      "provenance": []
    },
    "kernelspec": {
      "name": "python3",
      "display_name": "Python 3"
    },
    "language_info": {
      "name": "python"
    }
  },
  "cells": [
    {
      "cell_type": "code",
      "execution_count": 204,
      "metadata": {
        "id": "pQbZnph_tdkW"
      },
      "outputs": [],
      "source": [
        "import os\n",
        "import pandas as pd\n",
        "import numpy as np\n",
        "import matplotlib.pyplot as plt\n",
        "from sklearn.neighbors import KNeighborsClassifier\n",
        "\n",
        "import seaborn as sns\n",
        "\n",
        "from sklearn import metrics\n",
        "from sklearn.decomposition import PCA\n",
        "from sklearn.linear_model import LinearRegression\n",
        "from sklearn.linear_model import LogisticRegression\n",
        "from sklearn.model_selection import train_test_split\n",
        "from sklearn.feature_selection import SequentialFeatureSelector\n",
        "from sklearn.model_selection import GridSearchCV\n",
        "from sklearn.model_selection import cross_val_score\n",
        "from sklearn.preprocessing import StandardScaler\n",
        "from sklearn.neural_network import MLPClassifier\n",
        "from sklearn.metrics import accuracy_score\n",
        "from sklearn.metrics import classification_report"
      ]
    },
    {
      "cell_type": "code",
      "source": [
        "\n",
        "\n",
        "GITHUB_CDN = \"https://raw.githubusercontent.com/realamirhe/github-stargazer\"\n",
        "js_repo_urls = map(\n",
        "    lambda idx: f\"{GITHUB_CDN}/master/data/js-{idx}.csv\",\n",
        "    range(1, 10)\n",
        ")\n",
        "\n",
        "datas = pd.concat(list(map(pd.read_csv, js_repo_urls)))\n",
        "datas = datas.select_dtypes(exclude=['object'])\n",
        "datas = datas.drop(columns=['Unnamed: 0', 'score'], axis=1)\n",
        "data1 = datas.reset_index()\n",
        "\n",
        "data1.shape"
      ],
      "metadata": {
        "colab": {
          "base_uri": "https://localhost:8080/"
        },
        "id": "LLrz26TWtqQa",
        "outputId": "ea38b208-ce43-4a23-fa52-7e4cc55725c5"
      },
      "execution_count": 205,
      "outputs": [
        {
          "output_type": "execute_result",
          "data": {
            "text/plain": [
              "(900, 25)"
            ]
          },
          "metadata": {},
          "execution_count": 205
        }
      ]
    },
    {
      "cell_type": "code",
      "source": [
        "\n",
        "\n",
        "GITHUB_CDN = \"https://raw.githubusercontent.com/realamirhe/github-stargazer\"\n",
        "js_repo_urls = map(\n",
        "    lambda idx: f\"{GITHUB_CDN}/master/data/py-{idx}.csv\",\n",
        "    range(1, 10)\n",
        ")\n",
        "\n",
        "datas = pd.concat(list(map(pd.read_csv, js_repo_urls)))\n",
        "datas = datas.select_dtypes(exclude=['object'])\n",
        "datas = datas.drop(columns=['Unnamed: 0', 'score'], axis=1)\n",
        "data2 = datas.reset_index()\n",
        "\n",
        "data2.shape"
      ],
      "metadata": {
        "colab": {
          "base_uri": "https://localhost:8080/"
        },
        "id": "s7UHEa6r24Us",
        "outputId": "e328b5b3-1553-416e-9504-f27ecefe698d"
      },
      "execution_count": 206,
      "outputs": [
        {
          "output_type": "execute_result",
          "data": {
            "text/plain": [
              "(900, 25)"
            ]
          },
          "metadata": {},
          "execution_count": 206
        }
      ]
    },
    {
      "cell_type": "code",
      "source": [
        "GITHUB_CDN = \"https://raw.githubusercontent.com/realamirhe/github-stargazer\"\n",
        "js_repo_urls = map(\n",
        "    lambda idx: f\"{GITHUB_CDN}/master/data/datas.csv\",\n",
        "    range(1, 10)\n",
        ")\n",
        "\n",
        "datas = pd.concat(list(map(pd.read_csv, js_repo_urls)))\n",
        "datas = datas.select_dtypes(exclude=['object'])\n",
        "datas = datas.drop(columns=['Unnamed: 0', 'score'], axis=1)\n",
        "data3 = datas.reset_index()\n",
        "\n",
        "data3.shape"
      ],
      "metadata": {
        "colab": {
          "base_uri": "https://localhost:8080/"
        },
        "id": "Te3jdPsPsubt",
        "outputId": "2801abb1-cd80-46cc-c991-316981b35df1"
      },
      "execution_count": 207,
      "outputs": [
        {
          "output_type": "execute_result",
          "data": {
            "text/plain": [
              "(12303, 25)"
            ]
          },
          "metadata": {},
          "execution_count": 207
        }
      ]
    },
    {
      "cell_type": "code",
      "source": [
        "GITHUB_CDN = \"https://raw.githubusercontent.com/realamirhe/github-stargazer\"\n",
        "js_repo_urls = map(\n",
        "    lambda idx: f\"{GITHUB_CDN}/master/data/datas-2.csv\",\n",
        "    range(1, 10)\n",
        ")\n",
        "\n",
        "datas = pd.concat(list(map(pd.read_csv, js_repo_urls)))\n",
        "datas = datas.select_dtypes(exclude=['object'])\n",
        "datas = datas.drop(columns=['Unnamed: 0', 'score'], axis=1)\n",
        "data4 = datas.reset_index()\n",
        "\n",
        "data3.shape"
      ],
      "metadata": {
        "colab": {
          "base_uri": "https://localhost:8080/"
        },
        "id": "chi7j0nFg6Bw",
        "outputId": "08eea64c-3cf2-4d7d-db2d-87d0e5baad4f"
      },
      "execution_count": 208,
      "outputs": [
        {
          "output_type": "execute_result",
          "data": {
            "text/plain": [
              "(12303, 25)"
            ]
          },
          "metadata": {},
          "execution_count": 208
        }
      ]
    },
    {
      "cell_type": "code",
      "source": [
        "data=pd.concat([data1,data2,data3,data4])\n",
        "data.drop_duplicates(inplace=True)\n",
        "data.shape"
      ],
      "metadata": {
        "colab": {
          "base_uri": "https://localhost:8080/"
        },
        "id": "ut4qIppp5xbB",
        "outputId": "c53ef8a0-60f5-4de6-b970-db38d80d5135"
      },
      "execution_count": 209,
      "outputs": [
        {
          "output_type": "execute_result",
          "data": {
            "text/plain": [
              "(3203, 25)"
            ]
          },
          "metadata": {},
          "execution_count": 209
        }
      ]
    },
    {
      "cell_type": "code",
      "source": [
        "\n",
        "startruck_ranges = (-np.inf,2.5,np.inf)\n",
        "startruck_labels = [0, 1]\n",
        "y = data['stargazers_count']\n",
        "y=np.log(y+0.001)\n",
        "y = pd.cut(y, [i-1 for i in startruck_ranges], labels=startruck_labels)\n",
        "y=y.astype(np.float64)\n",
        "X = data.drop(columns=['stargazers_count', 'index', 'watchers', 'watchers_count'])\n",
        "X = X.replace({ False: 0, True: 1 })\n",
        "X.info()"
      ],
      "metadata": {
        "colab": {
          "base_uri": "https://localhost:8080/"
        },
        "id": "F5bRScCau91J",
        "outputId": "7851769e-eadc-4c67-8217-2ca402b3c7ec"
      },
      "execution_count": 210,
      "outputs": [
        {
          "output_type": "stream",
          "name": "stdout",
          "text": [
            "<class 'pandas.core.frame.DataFrame'>\n",
            "Int64Index: 3203 entries, 0 to 1664\n",
            "Data columns (total 21 columns):\n",
            " #   Column                       Non-Null Count  Dtype\n",
            "---  ------                       --------------  -----\n",
            " 0   private                      3203 non-null   int64\n",
            " 1   owner.public_repos           3203 non-null   int64\n",
            " 2   owner.public_gists           3203 non-null   int64\n",
            " 3   owner.followers              3203 non-null   int64\n",
            " 4   owner.following              3203 non-null   int64\n",
            " 5   fork                         3203 non-null   int64\n",
            " 6   forks                        3203 non-null   int64\n",
            " 7   size                         3203 non-null   int64\n",
            " 8   has_issues                   3203 non-null   int64\n",
            " 9   has_projects                 3203 non-null   int64\n",
            " 10  has_downloads                3203 non-null   int64\n",
            " 11  has_wiki                     3203 non-null   int64\n",
            " 12  has_pages                    3203 non-null   int64\n",
            " 13  has_discussions              3203 non-null   int64\n",
            " 14  forks_count                  3203 non-null   int64\n",
            " 15  archived                     3203 non-null   int64\n",
            " 16  disabled                     3203 non-null   int64\n",
            " 17  open_issues_count            3203 non-null   int64\n",
            " 18  allow_forking                3203 non-null   int64\n",
            " 19  is_template                  3203 non-null   int64\n",
            " 20  web_commit_signoff_required  3203 non-null   int64\n",
            "dtypes: int64(21)\n",
            "memory usage: 550.5 KB\n"
          ]
        }
      ]
    },
    {
      "cell_type": "code",
      "source": [
        "pca=PCA(n_components=2)\n",
        "pca.fit(X)\n",
        "print(np.sum(pca.explained_variance_ratio_))\n",
        "xp=pca.transform(X)\n",
        "x_train, x_test, y_train, y_test = train_test_split(xp, y, test_size=0.2, random_state=42)"
      ],
      "metadata": {
        "colab": {
          "base_uri": "https://localhost:8080/"
        },
        "id": "ILLgZffI-Te1",
        "outputId": "d65bbc58-d718-49b4-a075-ab4e803e9f9a"
      },
      "execution_count": 211,
      "outputs": [
        {
          "output_type": "stream",
          "name": "stdout",
          "text": [
            "0.9998439005576631\n"
          ]
        }
      ]
    },
    {
      "cell_type": "code",
      "source": [
        "knn = KNeighborsClassifier()\n",
        "knn=KNeighborsClassifier(n_neighbors=4)\n",
        "acc=cross_val_score(knn, xp, y, cv=5)\n",
        "plt.bar(np.arange(5)+1,acc)\n",
        "plt.xlabel('kth Fold')\n",
        "plt.ylabel('Accuracy')\n",
        "plt.title('5-fold cross validation for KNN')"
      ],
      "metadata": {
        "colab": {
          "base_uri": "https://localhost:8080/",
          "height": 313
        },
        "id": "v8Bwt6mAAoa2",
        "outputId": "7e7022e7-11e6-4d3e-8c4b-731fc5f6cc5c"
      },
      "execution_count": 212,
      "outputs": [
        {
          "output_type": "execute_result",
          "data": {
            "text/plain": [
              "Text(0.5, 1.0, '5-fold cross validation for KNN')"
            ]
          },
          "metadata": {},
          "execution_count": 212
        },
        {
          "output_type": "display_data",
          "data": {
            "text/plain": [
              "<Figure size 432x288 with 1 Axes>"
            ],
            "image/png": "[encoded data removed]"
          },
          "metadata": {
            "needs_background": "light"
          }
        }
      ]
    },
    {
      "cell_type": "code",
      "source": [
        "clf=KNeighborsClassifier(n_neighbors=4)\n",
        "clf.fit(x_train,y_train)\n",
        "y_p=clf.predict(x_test)\n",
        "confusion_matrix = metrics.confusion_matrix(y_test, y_p)\n",
        "cm_display = metrics.ConfusionMatrixDisplay(confusion_matrix = confusion_matrix,\n",
        "                                            display_labels = ['*', '**'])\n",
        "cm_display.plot()\n",
        "plt.show()\n",
        "print('========================Classification Metrics======================')\n",
        "print(classification_report(y_test, y_p, labels=[0,1]))"
      ],
      "metadata": {
        "colab": {
          "base_uri": "https://localhost:8080/",
          "height": 458
        },
        "id": "rNHBxlL7rpG0",
        "outputId": "211eabdb-d82a-417e-c0c5-d133c9c036c8"
      },
      "execution_count": 213,
      "outputs": [
        {
          "output_type": "display_data",
          "data": {
            "text/plain": [
              "<Figure size 432x288 with 2 Axes>"
            ],
            "image/png": "[encoded data removed]"
          },
          "metadata": {
            "needs_background": "light"
          }
        },
        {
          "output_type": "stream",
          "name": "stdout",
          "text": [
            "========================Classification Metrics======================\n",
            "              precision    recall  f1-score   support\n",
            "\n",
            "           0       0.65      0.80      0.72       305\n",
            "           1       0.77      0.61      0.68       336\n",
            "\n",
            "    accuracy                           0.70       641\n",
            "   macro avg       0.71      0.71      0.70       641\n",
            "weighted avg       0.72      0.70      0.70       641\n",
            "\n"
          ]
        }
      ]
    },
    {
      "cell_type": "code",
      "source": [
        "from sklearn.svm import SVC\n",
        "clf=SVC(kernel='rbf',C=5,gamma='auto')\n",
        "acc=cross_val_score(clf, xp, y, cv=5)\n",
        "plt.bar(np.arange(5)+1,acc)\n",
        "plt.xlabel('kth Fold')\n",
        "plt.ylabel('Accuracy')\n",
        "plt.title('5-fold cross validation for SVM')"
      ],
      "metadata": {
        "id": "Yt6cf9OrNEuJ",
        "colab": {
          "base_uri": "https://localhost:8080/",
          "height": 313
        },
        "outputId": "422b6eb4-8b46-4f7c-d6db-d5e9b5078c8f"
      },
      "execution_count": 214,
      "outputs": [
        {
          "output_type": "execute_result",
          "data": {
            "text/plain": [
              "Text(0.5, 1.0, '5-fold cross validation for SVM')"
            ]
          },
          "metadata": {},
          "execution_count": 214
        },
        {
          "output_type": "display_data",
          "data": {
            "text/plain": [
              "<Figure size 432x288 with 1 Axes>"
            ],
            "image/png": "[encoded data removed]"
          },
          "metadata": {
            "needs_background": "light"
          }
        }
      ]
    },
    {
      "cell_type": "code",
      "source": [
        "clf=SVC(C=5,gamma='auto')\n",
        "clf.fit(x_train,y_train)\n",
        "y_p=clf.predict(x_test)\n",
        "confusion_matrix = metrics.confusion_matrix(y_test, y_p)\n",
        "cm_display = metrics.ConfusionMatrixDisplay(confusion_matrix = confusion_matrix,\n",
        "                                            display_labels = ['*', '**'])\n",
        "cm_display.plot()\n",
        "plt.show()\n",
        "print('========================Classification Metrics======================')\n",
        "print(classification_report(y_test, y_p, labels=[0,1]))"
      ],
      "metadata": {
        "colab": {
          "base_uri": "https://localhost:8080/",
          "height": 458
        },
        "id": "SolRPJcStvPY",
        "outputId": "b98140d9-e7c5-497f-f067-25512ee0ce18"
      },
      "execution_count": 215,
      "outputs": [
        {
          "output_type": "display_data",
          "data": {
            "text/plain": [
              "<Figure size 432x288 with 2 Axes>"
            ],
            "image/png": "[encoded data removed]"
          },
          "metadata": {
            "needs_background": "light"
          }
        },
        {
          "output_type": "stream",
          "name": "stdout",
          "text": [
            "========================Classification Metrics======================\n",
            "              precision    recall  f1-score   support\n",
            "\n",
            "           0       0.86      0.47      0.60       305\n",
            "           1       0.66      0.93      0.77       336\n",
            "\n",
            "    accuracy                           0.71       641\n",
            "   macro avg       0.76      0.70      0.69       641\n",
            "weighted avg       0.75      0.71      0.69       641\n",
            "\n"
          ]
        }
      ]
    },
    {
      "cell_type": "code",
      "source": [
        "from sklearn.linear_model import LogisticRegression\n",
        "clf = LogisticRegression(random_state=0,max_iter=1000)\n",
        "acc=cross_val_score(clf, xp, y, cv=5)\n",
        "plt.bar(np.arange(5)+1,acc)\n",
        "plt.xlabel('kth Fold')\n",
        "plt.ylabel('Accuracy')\n",
        "plt.title('5-fold cross validation for logestic regression')"
      ],
      "metadata": {
        "colab": {
          "base_uri": "https://localhost:8080/",
          "height": 313
        },
        "id": "tqUDLA4_x0Mc",
        "outputId": "e6c713e9-b9da-400f-9916-b96f9b011a28"
      },
      "execution_count": 216,
      "outputs": [
        {
          "output_type": "execute_result",
          "data": {
            "text/plain": [
              "Text(0.5, 1.0, '5-fold cross validation for logestic regression')"
            ]
          },
          "metadata": {},
          "execution_count": 216
        },
        {
          "output_type": "display_data",
          "data": {
            "text/plain": [
              "<Figure size 432x288 with 1 Axes>"
            ],
            "image/png": "[encoded data removed]"
          },
          "metadata": {
            "needs_background": "light"
          }
        }
      ]
    },
    {
      "cell_type": "code",
      "source": [
        "clf = LogisticRegression(random_state=0,max_iter=1000)\n",
        "clf.fit(x_train,y_train)\n",
        "y_p=clf.predict(x_test)\n",
        "confusion_matrix = metrics.confusion_matrix(y_test, y_p)\n",
        "cm_display = metrics.ConfusionMatrixDisplay(confusion_matrix = confusion_matrix,\n",
        "                                            display_labels = ['*', '**'])\n",
        "cm_display.plot()\n",
        "plt.show()\n",
        "print('========================Classification Metrics======================')\n",
        "print(classification_report(y_test, y_p, labels=[0,1]))"
      ],
      "metadata": {
        "colab": {
          "base_uri": "https://localhost:8080/",
          "height": 458
        },
        "id": "B4eshHJGuEK0",
        "outputId": "87843207-0dc2-4b12-d395-59778195ef38"
      },
      "execution_count": 217,
      "outputs": [
        {
          "output_type": "display_data",
          "data": {
            "text/plain": [
              "<Figure size 432x288 with 2 Axes>"
            ],
            "image/png": "[encoded data removed]"
          },
          "metadata": {
            "needs_background": "light"
          }
        },
        {
          "output_type": "stream",
          "name": "stdout",
          "text": [
            "========================Classification Metrics======================\n",
            "              precision    recall  f1-score   support\n",
            "\n",
            "           0       0.54      0.96      0.69       305\n",
            "           1       0.88      0.25      0.39       336\n",
            "\n",
            "    accuracy                           0.59       641\n",
            "   macro avg       0.71      0.61      0.54       641\n",
            "weighted avg       0.72      0.59      0.53       641\n",
            "\n"
          ]
        }
      ]
    },
    {
      "cell_type": "code",
      "source": [
        "from sklearn.tree import DecisionTreeClassifier\n",
        "clf=DecisionTreeClassifier(max_depth=3)\n",
        "acc=cross_val_score(clf, xp, y, cv=5)\n",
        "plt.bar(np.arange(5)+1,acc)\n",
        "plt.xlabel('kth Fold')\n",
        "plt.ylabel('Accuracy')\n",
        "plt.title('5-fold cross validation for Decision Tree')"
      ],
      "metadata": {
        "colab": {
          "base_uri": "https://localhost:8080/",
          "height": 313
        },
        "id": "ICo9c6sXzcv6",
        "outputId": "acd3033c-169b-4586-af37-243e9457e6e3"
      },
      "execution_count": 218,
      "outputs": [
        {
          "output_type": "execute_result",
          "data": {
            "text/plain": [
              "Text(0.5, 1.0, '5-fold cross validation for Decision Tree')"
            ]
          },
          "metadata": {},
          "execution_count": 218
        },
        {
          "output_type": "display_data",
          "data": {
            "text/plain": [
              "<Figure size 432x288 with 1 Axes>"
            ],
            "image/png": "[encoded data removed]"
          },
          "metadata": {
            "needs_background": "light"
          }
        }
      ]
    },
    {
      "cell_type": "code",
      "source": [
        "clf=DecisionTreeClassifier(max_depth=3)\n",
        "clf.fit(x_train,y_train)\n",
        "y_p=clf.predict(x_test)\n",
        "confusion_matrix = metrics.confusion_matrix(y_test, y_p)\n",
        "cm_display = metrics.ConfusionMatrixDisplay(confusion_matrix = confusion_matrix,\n",
        "                                            display_labels = ['*', '**'])\n",
        "cm_display.plot()\n",
        "plt.show()\n",
        "print('========================Classification Metrics======================')\n",
        "print(classification_report(y_test, y_p, labels=[0,1]))"
      ],
      "metadata": {
        "colab": {
          "base_uri": "https://localhost:8080/",
          "height": 458
        },
        "id": "vhkKtDpnugKF",
        "outputId": "9404bf72-0c17-4e5a-9681-9c2be0ad0895"
      },
      "execution_count": 219,
      "outputs": [
        {
          "output_type": "display_data",
          "data": {
            "text/plain": [
              "<Figure size 432x288 with 2 Axes>"
            ],
            "image/png": "[encoded data removed]"
          },
          "metadata": {
            "needs_background": "light"
          }
        },
        {
          "output_type": "stream",
          "name": "stdout",
          "text": [
            "========================Classification Metrics======================\n",
            "              precision    recall  f1-score   support\n",
            "\n",
            "           0       0.69      0.60      0.64       305\n",
            "           1       0.67      0.76      0.71       336\n",
            "\n",
            "    accuracy                           0.68       641\n",
            "   macro avg       0.68      0.68      0.68       641\n",
            "weighted avg       0.68      0.68      0.68       641\n",
            "\n"
          ]
        }
      ]
    },
    {
      "cell_type": "code",
      "source": [
        "from sklearn.ensemble import RandomForestClassifier\n",
        "clf = RandomForestClassifier(n_estimators=100,max_depth=3, random_state=0)\n",
        "acc=cross_val_score(clf, xp, y, cv=5)\n",
        "plt.bar(np.arange(5)+1,acc)\n",
        "plt.xlabel('kth Fold')\n",
        "plt.ylabel('Accuracy')\n",
        "plt.title('5-fold cross validation for Random forest')"
      ],
      "metadata": {
        "colab": {
          "base_uri": "https://localhost:8080/",
          "height": 313
        },
        "id": "fyqNT8aXr38E",
        "outputId": "6e37b550-6f14-4544-a9a0-db2fb0be52c4"
      },
      "execution_count": 220,
      "outputs": [
        {
          "output_type": "execute_result",
          "data": {
            "text/plain": [
              "Text(0.5, 1.0, '5-fold cross validation for Random forest')"
            ]
          },
          "metadata": {},
          "execution_count": 220
        },
        {
          "output_type": "display_data",
          "data": {
            "text/plain": [
              "<Figure size 432x288 with 1 Axes>"
            ],
            "image/png": "[encoded data removed]"
          },
          "metadata": {
            "needs_background": "light"
          }
        }
      ]
    },
    {
      "cell_type": "code",
      "source": [
        "clf = RandomForestClassifier(n_estimators=100,max_depth=3, random_state=0)\n",
        "clf.fit(x_train,y_train)\n",
        "y_p=clf.predict(x_test)\n",
        "confusion_matrix = metrics.confusion_matrix(y_test, y_p)\n",
        "cm_display = metrics.ConfusionMatrixDisplay(confusion_matrix = confusion_matrix,\n",
        "                                            display_labels = ['*', '**'])\n",
        "cm_display.plot()\n",
        "plt.show()\n",
        "print('========================Classification Metrics======================')\n",
        "print(classification_report(y_test, y_p, labels=[0,1]))"
      ],
      "metadata": {
        "colab": {
          "base_uri": "https://localhost:8080/",
          "height": 458
        },
        "id": "XvyQYH_12hyS",
        "outputId": "2a0775d6-5de8-45fc-a60e-10e4ddda1ad6"
      },
      "execution_count": 221,
      "outputs": [
        {
          "output_type": "display_data",
          "data": {
            "text/plain": [
              "<Figure size 432x288 with 2 Axes>"
            ],
            "image/png": "[encoded data removed]"
          },
          "metadata": {
            "needs_background": "light"
          }
        },
        {
          "output_type": "stream",
          "name": "stdout",
          "text": [
            "========================Classification Metrics======================\n",
            "              precision    recall  f1-score   support\n",
            "\n",
            "           0       0.70      0.58      0.64       305\n",
            "           1       0.67      0.77      0.72       336\n",
            "\n",
            "    accuracy                           0.68       641\n",
            "   macro avg       0.69      0.68      0.68       641\n",
            "weighted avg       0.69      0.68      0.68       641\n",
            "\n"
          ]
        }
      ]
    },
    {
      "cell_type": "code",
      "source": [
        "clf = MLPClassifier(hidden_layer_sizes=(50,10),random_state=1, max_iter=300)\n",
        "acc=cross_val_score(clf, xp, y, cv=5)\n",
        "plt.bar(np.arange(5)+1,acc)\n",
        "plt.xlabel('kth Fold')\n",
        "plt.ylabel('Accuracy')\n",
        "plt.title('5-fold cross validation for MLP')"
      ],
      "metadata": {
        "colab": {
          "base_uri": "https://localhost:8080/",
          "height": 313
        },
        "id": "95uIM4Oj2g3y",
        "outputId": "2c231c08-2631-48a6-e6da-cbf9eef1e701"
      },
      "execution_count": 222,
      "outputs": [
        {
          "output_type": "execute_result",
          "data": {
            "text/plain": [
              "Text(0.5, 1.0, '5-fold cross validation for MLP')"
            ]
          },
          "metadata": {},
          "execution_count": 222
        },
        {
          "output_type": "display_data",
          "data": {
            "text/plain": [
              "<Figure size 432x288 with 1 Axes>"
            ],
            "image/png": "[encoded data removed]"
          },
          "metadata": {
            "needs_background": "light"
          }
        }
      ]
    },
    {
      "cell_type": "code",
      "source": [
        "clf = MLPClassifier(hidden_layer_sizes=(50,10),random_state=0, max_iter=300)\n",
        "clf.fit(x_train,y_train)\n",
        "y_p=clf.predict(x_test)\n",
        "confusion_matrix = metrics.confusion_matrix(y_test, y_p)\n",
        "cm_display = metrics.ConfusionMatrixDisplay(confusion_matrix = confusion_matrix,\n",
        "                                            display_labels = ['*', '**'])\n",
        "cm_display.plot()\n",
        "plt.show()\n",
        "print('========================Classification Metrics======================')\n",
        "print(classification_report(y_test, y_p, labels=[0,1]))"
      ],
      "metadata": {
        "colab": {
          "base_uri": "https://localhost:8080/",
          "height": 458
        },
        "id": "5FTpZ3El3Ukf",
        "outputId": "6e246b19-b19c-4485-f8b1-26cc8feee55e"
      },
      "execution_count": 223,
      "outputs": [
        {
          "output_type": "display_data",
          "data": {
            "text/plain": [
              "<Figure size 432x288 with 2 Axes>"
            ],
            "image/png": "[encoded data removed]"
          },
          "metadata": {
            "needs_background": "light"
          }
        },
        {
          "output_type": "stream",
          "name": "stdout",
          "text": [
            "========================Classification Metrics======================\n",
            "              precision    recall  f1-score   support\n",
            "\n",
            "           0       0.54      0.88      0.67       305\n",
            "           1       0.74      0.33      0.45       336\n",
            "\n",
            "    accuracy                           0.59       641\n",
            "   macro avg       0.64      0.60      0.56       641\n",
            "weighted avg       0.65      0.59      0.56       641\n",
            "\n"
          ]
        }
      ]
    },
    {
      "cell_type": "code",
      "source": [
        "clf1=SVC(kernel='rbf',C=1,gamma='auto',probability=True)\n",
        "clf2=LogisticRegression(random_state=0,max_iter=1000)\n",
        "clf3=DecisionTreeClassifier(max_depth=3)\n",
        "clf4=KNeighborsClassifier(n_neighbors=2)\n",
        "clf4.fit(x_train,y_train)\n",
        "clf3.fit(x_train,y_train)\n",
        "clf1.fit(x_train,y_train)\n",
        "clf2.fit(x_train,y_train)\n",
        "yp1=clf1.predict_proba(x_test)\n",
        "yp2=clf2.predict_proba(x_test)\n",
        "yp3=clf3.predict_proba(x_test)\n",
        "yp4=clf4.predict_proba(x_test)\n",
        "y_p=np.argmax((yp1+yp2+yp3+yp4),axis=1)\n",
        "confusion_matrix = metrics.confusion_matrix(y_test, y_p)\n",
        "cm_display = metrics.ConfusionMatrixDisplay(confusion_matrix = confusion_matrix,\n",
        "                                            display_labels = ['*', '**'])\n",
        "cm_display.plot()\n",
        "plt.show()\n",
        "print('========================Classification Metrics======================')\n",
        "print(classification_report(y_test, y_p, labels=[0,1]))"
      ],
      "metadata": {
        "colab": {
          "base_uri": "https://localhost:8080/",
          "height": 458
        },
        "id": "xFmByPN3hkK3",
        "outputId": "549ecca3-a1d1-4e5f-fdbc-83d363142f56"
      },
      "execution_count": 224,
      "outputs": [
        {
          "output_type": "display_data",
          "data": {
            "text/plain": [
              "<Figure size 432x288 with 2 Axes>"
            ],
            "image/png": "[encoded data removed]"
          },
          "metadata": {
            "needs_background": "light"
          }
        },
        {
          "output_type": "stream",
          "name": "stdout",
          "text": [
            "========================Classification Metrics======================\n",
            "              precision    recall  f1-score   support\n",
            "\n",
            "           0       0.73      0.76      0.75       305\n",
            "           1       0.78      0.75      0.76       336\n",
            "\n",
            "    accuracy                           0.76       641\n",
            "   macro avg       0.75      0.76      0.75       641\n",
            "weighted avg       0.76      0.76      0.76       641\n",
            "\n"
          ]
        }
      ]
    },
    {
      "cell_type": "code",
      "source": [
        "from sklearn.ensemble import AdaBoostClassifier\n",
        "clf = AdaBoostClassifier(n_estimators=10)\n",
        "plt.bar(np.arange(5)+1,acc)\n",
        "plt.xlabel('kth Fold')\n",
        "plt.ylabel('Accuracy')\n",
        "plt.title('5-fold cross validation for AdaBoost')"
      ],
      "metadata": {
        "colab": {
          "base_uri": "https://localhost:8080/",
          "height": 313
        },
        "id": "OJ5vQMy5xRC6",
        "outputId": "886b0c15-3353-4368-92fb-531f4b6d243c"
      },
      "execution_count": 225,
      "outputs": [
        {
          "output_type": "execute_result",
          "data": {
            "text/plain": [
              "Text(0.5, 1.0, '5-fold cross validation for AdaBoost')"
            ]
          },
          "metadata": {},
          "execution_count": 225
        },
        {
          "output_type": "display_data",
          "data": {
            "text/plain": [
              "<Figure size 432x288 with 1 Axes>"
            ],
            "image/png": "[encoded data removed]"
          },
          "metadata": {
            "needs_background": "light"
          }
        }
      ]
    },
    {
      "cell_type": "code",
      "source": [
        "clf = AdaBoostClassifier(n_estimators=10)\n",
        "clf.fit(x_train,y_train)\n",
        "y_p=clf.predict(x_test)\n",
        "confusion_matrix = metrics.confusion_matrix(y_test, y_p)\n",
        "cm_display = metrics.ConfusionMatrixDisplay(confusion_matrix = confusion_matrix,\n",
        "                                            display_labels = ['*', '**'])\n",
        "cm_display.plot()\n",
        "plt.show()\n",
        "print('========================Classification Metrics======================')\n",
        "print(classification_report(y_test, y_p, labels=[0,1]))"
      ],
      "metadata": {
        "colab": {
          "base_uri": "https://localhost:8080/",
          "height": 458
        },
        "id": "FGsikJZKx1La",
        "outputId": "9dade44d-2c74-4854-8025-90bb5bfcca9e"
      },
      "execution_count": 226,
      "outputs": [
        {
          "output_type": "display_data",
          "data": {
            "text/plain": [
              "<Figure size 432x288 with 2 Axes>"
            ],
            "image/png": "[encoded data removed]"
          },
          "metadata": {
            "needs_background": "light"
          }
        },
        {
          "output_type": "stream",
          "name": "stdout",
          "text": [
            "========================Classification Metrics======================\n",
            "              precision    recall  f1-score   support\n",
            "\n",
            "           0       0.64      0.69      0.66       305\n",
            "           1       0.69      0.64      0.67       336\n",
            "\n",
            "    accuracy                           0.66       641\n",
            "   macro avg       0.67      0.67      0.66       641\n",
            "weighted avg       0.67      0.66      0.66       641\n",
            "\n"
          ]
        }
      ]
    }
  ]
}